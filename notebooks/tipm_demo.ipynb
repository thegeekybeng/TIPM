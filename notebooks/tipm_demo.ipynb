{
 "cells": [
  {
   "cell_type": "markdown",
   "id": "19376203",
   "metadata": {},
   "source": [
    "# TIPM Demo: US-China Electronics Tariff Analysis\n",
    "\n",
    "This notebook demonstrates the Tariff Impact Propagation Model (TIPM) by analyzing the impact of a hypothetical 25% tariff on Chinese electronics imports to the United States.\n",
    "\n",
    "## Scenario Overview\n",
    "- **Tariff Rate**: 25%\n",
    "- **Affected Products**: Electronics (HS codes 8517, 8525, 8528)\n",
    "- **Origin**: China (CN)\n",
    "- **Destination**: United States (US)\n",
    "- **Analysis Scope**: 6-layer impact propagation through global economy"
   ]
  },
  {
   "cell_type": "code",
   "execution_count": null,
   "id": "459bed4e",
   "metadata": {},
   "outputs": [],
   "source": [
    "# Import required libraries\n",
    "import pandas as pd\n",
    "import numpy as np\n",
    "import matplotlib.pyplot as plt\n",
    "import seaborn as sns\n",
    "from datetime import datetime\n",
    "\n",
    "# Import TIPM modules\n",
    "from tipm.core import TIPMModel, TariffShock\n",
    "from tipm.config import TIPMConfig\n",
    "from tipm.utils.data_utils import DataLoader\n",
    "from tipm.utils.visualization_utils import TIPMVisualizer\n",
    "\n",
    "# Set up plotting\n",
    "plt.style.use('seaborn-v0_8')\n",
    "sns.set_palette(\"husl\")\n",
    "\n",
    "print(\"TIPM libraries imported successfully!\")"
   ]
  },
  {
   "cell_type": "markdown",
   "id": "27845bba",
   "metadata": {},
   "source": [
    "## 1. Initialize TIPM Model\n",
    "\n",
    "First, we'll set up the TIPM model with default configuration optimized for US-China trade analysis."
   ]
  },
  {
   "cell_type": "code",
   "execution_count": null,
   "id": "c9d81461",
   "metadata": {},
   "outputs": [],
   "source": [
    "# Initialize TIPM configuration\n",
    "config = TIPMConfig(\n",
    "    random_seed=42,\n",
    "    confidence_threshold=0.7,\n",
    "    max_prediction_horizon=12  # 12 months\n",
    ")\n",
    "\n",
    "# Create TIPM model instance\n",
    "model = TIPMModel(config)\n",
    "\n",
    "print(f\"TIPM Model initialized with {len(model.config.__dict__)} configuration parameters\")\n",
    "print(f\"Model version: {config.model_version}\")"
   ]
  },
  {
   "cell_type": "markdown",
   "id": "2d9f54e4",
   "metadata": {},
   "source": [
    "## 2. Generate Sample Training Data\n",
    "\n",
    "For this demo, we'll generate synthetic training data. In a production environment, this would be replaced with historical trade, policy, and economic data."
   ]
  },
  {
   "cell_type": "code",
   "execution_count": null,
   "id": "4651b985",
   "metadata": {},
   "outputs": [],
   "source": [
    "# Initialize data loader\n",
    "data_loader = DataLoader()\n",
    "\n",
    "# Generate sample trade data\n",
    "countries = ['US', 'CN', 'DE', 'JP', 'SG', 'KR', 'MX', 'CA']\n",
    "years = [2020, 2021, 2022, 2023]\n",
    "\n",
    "print(\"Generating sample trade data...\")\n",
    "trade_data = data_loader.load_trade_data(countries, years)\n",
    "\n",
    "print(f\"Generated {len(trade_data):,} trade records\")\n",
    "print(f\"Total trade value: ${trade_data['trade_value'].sum():,.0f}\")\n",
    "\n",
    "# Display sample of trade data\n",
    "trade_data.head()"
   ]
  },
  {
   "cell_type": "code",
   "execution_count": null,
   "id": "648a7b12",
   "metadata": {},
   "outputs": [],
   "source": [
    "# Generate sample policy data\n",
    "from datetime import datetime, timedelta\n",
    "\n",
    "start_date = datetime(2020, 1, 1)\n",
    "end_date = datetime(2023, 12, 31)\n",
    "\n",
    "print(\"Generating sample policy data...\")\n",
    "policy_data = data_loader.load_policy_data((start_date, end_date))\n",
    "\n",
    "print(f\"Generated {len(policy_data)} policy announcements\")\n",
    "\n",
    "# Display sample policies\n",
    "policy_data.head()"
   ]
  },
  {
   "cell_type": "markdown",
   "id": "a7b0405e",
   "metadata": {},
   "source": [
    "## 3. Train TIPM Model\n",
    "\n",
    "Now we'll train the 6-layer TIPM model using our sample data."
   ]
  },
  {
   "cell_type": "code",
   "execution_count": null,
   "id": "f0c39988",
   "metadata": {},
   "outputs": [],
   "source": [
    "# Prepare training data for all layers\n",
    "training_data = {\n",
    "    'tariff_shocks': policy_data,\n",
    "    'trade_flows': trade_data,\n",
    "    'industry_responses': None,  # Would include industry survey data\n",
    "    'firm_responses': None,      # Would include firm-level response data\n",
    "    'consumer_impacts': None,    # Would include price and CPI data\n",
    "    'geopolitical_events': None  # Would include social media and news data\n",
    "}\n",
    "\n",
    "print(\"Training TIPM model...\")\n",
    "print(\"This may take a few minutes...\")\n",
    "\n",
    "# Train the model\n",
    "model.fit(training_data)\n",
    "\n",
    "print(\"✅ Model training completed!\")\n",
    "print(f\"Model status: {'Trained' if model.is_trained else 'Not trained'}\")"
   ]
  },
  {
   "cell_type": "markdown",
   "id": "65fbf4a3",
   "metadata": {},
   "source": [
    "## 4. Define Tariff Shock Scenario\n",
    "\n",
    "Let's create our tariff shock scenario: 25% tariff on Chinese electronics."
   ]
  },
  {
   "cell_type": "code",
   "execution_count": null,
   "id": "d7122186",
   "metadata": {},
   "outputs": [],
   "source": [
    "# Create tariff shock scenario\n",
    "tariff_shock = TariffShock(\n",
    "    tariff_id=\"US_CHINA_ELECTRONICS_2024_001\",\n",
    "    hs_codes=[\"8517\", \"8525\", \"8528\"],  # Telecommunications, cameras, monitors\n",
    "    rate_change=0.25,  # 25% tariff\n",
    "    origin_country=\"CN\",\n",
    "    destination_country=\"US\",\n",
    "    effective_date=\"2024-08-01\",\n",
    "    policy_text=\"\"\"The United States Trade Representative announces a 25% tariff on imports of \n",
    "    telecommunications equipment, digital cameras, and computer monitors from China, \n",
    "    effective August 1, 2024. This measure responds to ongoing trade disputes and aims \n",
    "    to protect domestic electronics manufacturing.\"\"\"\n",
    ")\n",
    "\n",
    "print(\"Tariff Shock Scenario Created:\")\n",
    "print(f\"  ID: {tariff_shock.tariff_id}\")\n",
    "print(f\"  Rate: {tariff_shock.rate_change * 100}%\")\n",
    "print(f\"  Route: {tariff_shock.origin_country} → {tariff_shock.destination_country}\")\n",
    "print(f\"  Products: {', '.join(tariff_shock.hs_codes)}\")\n",
    "print(f\"  Effective: {tariff_shock.effective_date}\")"
   ]
  },
  {
   "cell_type": "markdown",
   "id": "b5e5565b",
   "metadata": {},
   "source": [
    "## 5. Run Impact Prediction\n",
    "\n",
    "Now we'll run the tariff impact prediction through all 6 layers of the TIPM model."
   ]
  },
  {
   "cell_type": "code",
   "execution_count": null,
   "id": "2aa82579",
   "metadata": {},
   "outputs": [],
   "source": [
    "print(\"Running tariff impact prediction...\")\n",
    "print(\"Processing through 6 model layers:\")\n",
    "\n",
    "# Run prediction\n",
    "prediction = model.predict(tariff_shock)\n",
    "\n",
    "print(\"\\n✅ Prediction completed!\")\n",
    "print(\"\\nModel Confidence Scores:\")\n",
    "for layer, confidence in prediction.confidence_scores.items():\n",
    "    status = \"🟢\" if confidence > 0.8 else \"🟡\" if confidence > 0.6 else \"🔴\"\n",
    "    print(f\"  {status} {layer}: {confidence:.1%}\")"
   ]
  },
  {
   "cell_type": "markdown",
   "id": "89036045",
   "metadata": {},
   "source": [
    "## 6. Analyze Results by Layer\n",
    "\n",
    "Let's examine the prediction results from each layer of the TIPM model."
   ]
  },
  {
   "cell_type": "code",
   "execution_count": null,
   "id": "2b6c6a96",
   "metadata": {},
   "outputs": [],
   "source": [
    "# Layer 2: Trade Flow Impact\n",
    "print(\"=== LAYER 2: TRADE FLOW IMPACT ===\")\n",
    "print(f\"Affected trade routes: {len(prediction.trade_flow_impact.affected_routes)}\")\n",
    "\n",
    "if prediction.trade_flow_impact.supply_chain_disruption:\n",
    "    print(\"\\nSupply Chain Disruption by Sector:\")\n",
    "    for sector, disruption in list(prediction.trade_flow_impact.supply_chain_disruption.items())[:5]:\n",
    "        impact_level = \"High\" if disruption > 0.7 else \"Medium\" if disruption > 0.4 else \"Low\"\n",
    "        print(f\"  📊 {sector}: {disruption:.1%} ({impact_level})\")\n",
    "\n",
    "if prediction.trade_flow_impact.alternative_sources:\n",
    "    print(\"\\nAlternative Supply Sources Identified:\")\n",
    "    for route, alternatives in list(prediction.trade_flow_impact.alternative_sources.items())[:3]:\n",
    "        print(f\"  🔄 {route}: {', '.join(alternatives[:3])}\")"
   ]
  },
  {
   "cell_type": "code",
   "execution_count": null,
   "id": "113db52c",
   "metadata": {},
   "outputs": [],
   "source": [
    "# Layer 3: Industry Response\n",
    "print(\"=== LAYER 3: INDUSTRY RESPONSE ===\")\n",
    "\n",
    "if hasattr(prediction.industry_response, 'sector_impacts'):\n",
    "    print(\"\\nSector Impact Analysis:\")\n",
    "    for sector, impact in list(prediction.industry_response.sector_impacts.items())[:5]:\n",
    "        print(f\"  🏭 {sector}: {impact:.1%} impact\")\n",
    "\n",
    "if hasattr(prediction.industry_response, 'employment_effects'):\n",
    "    print(\"\\nEmployment Effects:\")\n",
    "    for sector, effect in list(prediction.industry_response.employment_effects.items())[:5]:\n",
    "        direction = \"📈\" if effect > 0 else \"📉\"\n",
    "        print(f\"  {direction} {sector}: {effect:.1%} employment change\")"
   ]
  },
  {
   "cell_type": "code",
   "execution_count": null,
   "id": "8b1b5eac",
   "metadata": {},
   "outputs": [],
   "source": [
    "# Layer 4: Firm Impact\n",
    "print(\"=== LAYER 4: FIRM-LEVEL IMPACT ===\")\n",
    "\n",
    "if hasattr(prediction.firm_impact, 'layoff_risk'):\n",
    "    print(\"\\nLayoff Risk by Sector:\")\n",
    "    for sector, risk in list(prediction.firm_impact.layoff_risk.items())[:5]:\n",
    "        risk_level = \"High\" if risk > 0.7 else \"Medium\" if risk > 0.4 else \"Low\"\n",
    "        print(f\"  ⚠️  {sector}: {risk:.1%} ({risk_level} risk)\")\n",
    "\n",
    "if hasattr(prediction.firm_impact, 'adaptation_strategies'):\n",
    "    print(\"\\nFirm Adaptation Strategies:\")\n",
    "    strategy_counts = {}\n",
    "    for sector, strategy in prediction.firm_impact.adaptation_strategies.items():\n",
    "        strategy_counts[strategy] = strategy_counts.get(strategy, 0) + 1\n",
    "    \n",
    "    for strategy, count in strategy_counts.items():\n",
    "        print(f\"  📋 {strategy}: {count} sectors\")"
   ]
  },
  {
   "cell_type": "code",
   "execution_count": null,
   "id": "a44e0133",
   "metadata": {},
   "outputs": [],
   "source": [
    "# Layer 5: Consumer Impact\n",
    "print(\"=== LAYER 5: CONSUMER IMPACT ===\")\n",
    "\n",
    "if hasattr(prediction.consumer_impact, 'price_increases'):\n",
    "    print(\"\\nPrice Increases by Sector:\")\n",
    "    for sector, increase in list(prediction.consumer_impact.price_increases.items())[:5]:\n",
    "        print(f\"  💰 {sector}: +{increase:.1%} price increase\")\n",
    "\n",
    "if hasattr(prediction.consumer_impact, 'welfare_effects'):\n",
    "    total_welfare_loss = sum(prediction.consumer_impact.welfare_effects.values())\n",
    "    print(f\"\\nEstimated Consumer Welfare Impact: {total_welfare_loss:.1%}\")"
   ]
  },
  {
   "cell_type": "code",
   "execution_count": null,
   "id": "5c05a319",
   "metadata": {},
   "outputs": [],
   "source": [
    "# Layer 6: Geopolitical Impact\n",
    "print(\"=== LAYER 6: GEOPOLITICAL IMPACT ===\")\n",
    "\n",
    "if hasattr(prediction.geopolitical_impact, 'social_tension'):\n",
    "    avg_tension = np.mean(list(prediction.geopolitical_impact.social_tension.values()))\n",
    "    tension_level = \"High\" if avg_tension > 0.7 else \"Medium\" if avg_tension > 0.4 else \"Low\"\n",
    "    print(f\"\\nAverage Social Tension Level: {avg_tension:.1%} ({tension_level})\")\n",
    "\n",
    "if hasattr(prediction.geopolitical_impact, 'policy_responses'):\n",
    "    print(\"\\nPredicted Policy Responses:\")\n",
    "    response_counts = {}\n",
    "    for sector, response in prediction.geopolitical_impact.policy_responses.items():\n",
    "        response_counts[response] = response_counts.get(response, 0) + 1\n",
    "    \n",
    "    for response, count in response_counts.items():\n",
    "        print(f\"  🏛️  {response}: {count} sectors\")"
   ]
  },
  {
   "cell_type": "markdown",
   "id": "519394bf",
   "metadata": {},
   "source": [
    "## 7. Create Visualizations\n",
    "\n",
    "Let's create comprehensive visualizations of our tariff impact analysis."
   ]
  },
  {
   "cell_type": "code",
   "execution_count": null,
   "id": "a593c232",
   "metadata": {},
   "outputs": [],
   "source": [
    "# Initialize visualizer\n",
    "visualizer = TIPMVisualizer()\n",
    "\n",
    "# Create comprehensive impact summary\n",
    "print(\"Creating impact visualization dashboard...\")\n",
    "visualizer.plot_impact_summary(prediction)\n",
    "\n",
    "print(\"📊 Visualization completed!\")"
   ]
  },
  {
   "cell_type": "markdown",
   "id": "bafb83f8",
   "metadata": {},
   "source": [
    "## 8. Scenario Analysis\n",
    "\n",
    "Let's run a multi-scenario analysis to compare different tariff rates."
   ]
  },
  {
   "cell_type": "code",
   "execution_count": null,
   "id": "93c26534",
   "metadata": {},
   "outputs": [],
   "source": [
    "# Create multiple tariff scenarios\n",
    "scenarios = []\n",
    "tariff_rates = [0.10, 0.15, 0.25, 0.35]  # 10%, 15%, 25%, 35%\n",
    "\n",
    "print(\"Running multi-scenario analysis...\")\n",
    "\n",
    "scenario_results = []\n",
    "for rate in tariff_rates:\n",
    "    scenario_shock = TariffShock(\n",
    "        tariff_id=f\"SCENARIO_{int(rate*100)}PCT\",\n",
    "        hs_codes=[\"8517\", \"8525\", \"8528\"],\n",
    "        rate_change=rate,\n",
    "        origin_country=\"CN\",\n",
    "        destination_country=\"US\",\n",
    "        effective_date=\"2024-08-01\",\n",
    "        policy_text=f\"{int(rate*100)}% tariff scenario\"\n",
    "    )\n",
    "    \n",
    "    scenario_prediction = model.predict(scenario_shock)\n",
    "    scenario_results.append({\n",
    "        'tariff_rate': rate,\n",
    "        'confidence': scenario_prediction.confidence_scores.get('overall_confidence', 0),\n",
    "        'prediction': scenario_prediction\n",
    "    })\n",
    "    \n",
    "    print(f\"  ✅ {int(rate*100)}% tariff scenario completed\")\n",
    "\n",
    "print(\"\\n📊 Scenario Analysis Summary:\")\n",
    "for result in scenario_results:\n",
    "    rate_pct = int(result['tariff_rate'] * 100)\n",
    "    confidence = result['confidence']\n",
    "    print(f\"  {rate_pct}% Tariff - Confidence: {confidence:.1%}\")"
   ]
  },
  {
   "cell_type": "markdown",
   "id": "a4f553b4",
   "metadata": {},
   "source": [
    "## 9. Key Insights and Conclusions\n",
    "\n",
    "Based on our TIPM analysis, here are the key insights from the US-China electronics tariff scenario:"
   ]
  },
  {
   "cell_type": "code",
   "execution_count": null,
   "id": "19f64b45",
   "metadata": {},
   "outputs": [],
   "source": [
    "print(\"=== KEY INSIGHTS FROM TIPM ANALYSIS ===\")\n",
    "print()\n",
    "\n",
    "# Extract key metrics\n",
    "overall_confidence = prediction.confidence_scores.get('overall_confidence', 0)\n",
    "\n",
    "print(f\"📈 PREDICTION CONFIDENCE: {overall_confidence:.1%}\")\n",
    "print()\n",
    "\n",
    "print(\"🔍 IMPACT PROPAGATION SUMMARY:\")\n",
    "print(\"  1. Trade Flow Layer: Supply chain disruption identified\")\n",
    "print(\"  2. Industry Layer: Electronics sector most affected\")\n",
    "print(\"  3. Firm Layer: Adaptation strategies vary by impact level\")\n",
    "print(\"  4. Consumer Layer: Price increases expected across sectors\")\n",
    "print(\"  5. Geopolitical Layer: Social tension varies by sector impact\")\n",
    "print()\n",
    "\n",
    "print(\"⚠️  RISK FACTORS:\")\n",
    "print(\"  • Supply chain complexity in electronics\")\n",
    "print(\"  • Limited alternative suppliers in short term\")\n",
    "print(\"  • Consumer price sensitivity\")\n",
    "print(\"  • Potential for retaliatory measures\")\n",
    "print()\n",
    "\n",
    "print(\"💡 POLICY RECOMMENDATIONS:\")\n",
    "print(\"  • Monitor supply chain adaptation\")\n",
    "print(\"  • Support domestic electronics industry\")\n",
    "print(\"  • Consider consumer impact mitigation\")\n",
    "print(\"  • Engage in diplomatic dialogue\")\n",
    "print()\n",
    "\n",
    "print(\"🎯 NEXT STEPS:\")\n",
    "print(\"  • Validate predictions with historical data\")\n",
    "print(\"  • Refine model with real-world feedback\")\n",
    "print(\"  • Extend analysis to other trade routes\")\n",
    "print(\"  • Implement continuous monitoring\")"
   ]
  },
  {
   "cell_type": "markdown",
   "id": "b961fa67",
   "metadata": {},
   "source": [
    "## 10. Export Results\n",
    "\n",
    "Finally, let's export our analysis results for further use."
   ]
  },
  {
   "cell_type": "code",
   "execution_count": null,
   "id": "119b9323",
   "metadata": {},
   "outputs": [],
   "source": [
    "# Export prediction results\n",
    "import json\n",
    "from datetime import datetime\n",
    "\n",
    "# Prepare export data\n",
    "export_data = {\n",
    "    'analysis_metadata': {\n",
    "        'timestamp': datetime.now().isoformat(),\n",
    "        'model_version': config.model_version,\n",
    "        'scenario': 'US-China Electronics Tariff Analysis',\n",
    "        'analyst': 'TIPM Demo'\n",
    "    },\n",
    "    'tariff_shock': {\n",
    "        'id': tariff_shock.tariff_id,\n",
    "        'rate': tariff_shock.rate_change,\n",
    "        'origin': tariff_shock.origin_country,\n",
    "        'destination': tariff_shock.destination_country,\n",
    "        'hs_codes': tariff_shock.hs_codes,\n",
    "        'effective_date': tariff_shock.effective_date\n",
    "    },\n",
    "    'confidence_scores': prediction.confidence_scores,\n",
    "    'scenario_comparison': [\n",
    "        {\n",
    "            'rate': result['tariff_rate'],\n",
    "            'confidence': result['confidence']\n",
    "        } for result in scenario_results\n",
    "    ]\n",
    "}\n",
    "\n",
    "# Save to file\n",
    "output_file = 'tipm_analysis_results.json'\n",
    "with open(output_file, 'w') as f:\n",
    "    json.dump(export_data, f, indent=2)\n",
    "\n",
    "print(f\"✅ Analysis results exported to: {output_file}\")\n",
    "print(f\"📊 Data includes confidence scores and scenario comparisons\")\n",
    "print(f\"🔍 File size: {len(json.dumps(export_data))} characters\")"
   ]
  },
  {
   "cell_type": "markdown",
   "id": "609cd6a7",
   "metadata": {},
   "source": [
    "---\n",
    "\n",
    "## Summary\n",
    "\n",
    "This notebook demonstrated the complete TIPM workflow:\n",
    "\n",
    "1. **Model Initialization**: Set up 6-layer TIPM architecture\n",
    "2. **Data Generation**: Created synthetic training data\n",
    "3. **Model Training**: Trained all layers with sample data\n",
    "4. **Scenario Definition**: Created US-China electronics tariff shock\n",
    "5. **Impact Prediction**: Ran prediction through all 6 layers\n",
    "6. **Results Analysis**: Examined impacts at each layer\n",
    "7. **Visualization**: Created comprehensive impact dashboards\n",
    "8. **Scenario Analysis**: Compared multiple tariff rate scenarios\n",
    "9. **Insights Generation**: Extracted key findings and recommendations\n",
    "10. **Results Export**: Saved analysis for further use\n",
    "\n",
    "The TIPM model provides a comprehensive framework for analyzing tariff impacts across multiple dimensions of the global economy, from immediate trade effects to long-term geopolitical consequences.\n",
    "\n",
    "**Next Steps**: \n",
    "- Integrate real-world data sources\n",
    "- Validate predictions against historical events\n",
    "- Expand country coverage\n",
    "- Implement real-time monitoring capabilities"
   ]
  }
 ],
 "metadata": {
  "language_info": {
   "name": "python"
  }
 },
 "nbformat": 4,
 "nbformat_minor": 5
}
